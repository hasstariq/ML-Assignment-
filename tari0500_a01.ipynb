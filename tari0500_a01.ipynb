{
 "cells": [
  {
   "cell_type": "markdown",
   "metadata": {},
   "source": [
    "# Hassan Tariq, 170930500, Assignment 1, CP322"
   ]
  },
  {
   "cell_type": "code",
   "execution_count": 3,
   "metadata": {},
   "outputs": [
    {
     "name": "stdout",
     "output_type": "stream",
     "text": [
      "Name: Hassan Tariq\n"
     ]
    }
   ],
   "source": [
    "print(\"Name: Hassan Tariq\")"
   ]
  },
  {
   "cell_type": "markdown",
   "metadata": {},
   "source": [
    "Part 1"
   ]
  },
  {
   "cell_type": "code",
   "execution_count": null,
   "metadata": {},
   "outputs": [],
   "source": [
    "# Question 1.1.1)\n",
    "\n",
    "Bin 1 Smooth Values:13+15+16/3 14.67 \n",
    "Bin 2 Smooth Values:16+19+20/3 18.33 \n",
    "Bin 3 Smooth Values:20+21+22/3 21 \n",
    "Bin 4 Smooth Values:24+25+25/3 24\n",
    "Bin 5 Smooth Values:25+25+30/3 26.67\n",
    "Bin 6 Smooth Values:33+33+35/3 33.67 \n",
    "Bin 7 Smooth Values:35+35+35/3 35 \n",
    "Bin 8 Smooth Values:36+40+45/3 40.33\n",
    "Bin 9 Smooth Values:46+52+70/3 56\n",
    "\n",
    "As shown from the above data, we can conclude that the variace is lower which helps create a better graph. Additonally, \n",
    "this eliminates any noisy data or informaton from the models.\n",
    "\n"
   ]
  },
  {
   "cell_type": "code",
   "execution_count": 1,
   "metadata": {},
   "outputs": [
    {
     "name": "stdout",
     "output_type": "stream",
     "text": [
      "[[1.        0.8176188]\n",
      " [0.8176188 1.       ]]\n"
     ]
    }
   ],
   "source": [
    "# Question 1.1.2)\n",
    "\n",
    "#Calculation \n",
    "import numpy as np\n",
    "fat = np.array([9.5,26.5,7.8,17.8,31.4,25.9,27.4,27.2,31.2,34.6,42.5,28.8,33.4,30.2,34.1,32.9,41.2,35.7])\n",
    "age = np.array([23,23,27,27,39,41,47,49,50,52,54,54,56,57,58,58,60,61])\n",
    "\n",
    "r = np.corrcoef(age,fat)\n",
    "print(r)\n",
    "\n",
    "# The correlation coefficient is 0.8176188 which shows us that it is positively correlated. \n"
   ]
  },
  {
   "cell_type": "code",
   "execution_count": null,
   "metadata": {},
   "outputs": [],
   "source": [
    "# Question 1.2.1)\n",
    "\n",
    "The worst case scenario is O(log|D|). This is because after you go through the tree you will go through at most |D| level and all attributes(n) \n",
    "which would result in o(log|D|)n. \n"
   ]
  },
  {
   "cell_type": "code",
   "execution_count": null,
   "metadata": {},
   "outputs": [],
   "source": [
    "# Question 1.2.2)\n",
    "\n",
    "The advantges and disadvantages of eager classification versus lazy classification are eager classification is much \n",
    "more efficent than lazy classification because it creates a model before hand which helps classfying tuples. Additonally\n",
    "lazy classifciation requires a better hypothesis level whereas eager classification does not. \n"
   ]
  },
  {
   "cell_type": "markdown",
   "metadata": {},
   "source": [
    "Part 2"
   ]
  },
  {
   "cell_type": "code",
   "execution_count": 4,
   "metadata": {},
   "outputs": [
    {
     "data": {
      "text/html": [
       "<div>\n",
       "<style scoped>\n",
       "    .dataframe tbody tr th:only-of-type {\n",
       "        vertical-align: middle;\n",
       "    }\n",
       "\n",
       "    .dataframe tbody tr th {\n",
       "        vertical-align: top;\n",
       "    }\n",
       "\n",
       "    .dataframe thead th {\n",
       "        text-align: right;\n",
       "    }\n",
       "</style>\n",
       "<table border=\"1\" class=\"dataframe\">\n",
       "  <thead>\n",
       "    <tr style=\"text-align: right;\">\n",
       "      <th></th>\n",
       "      <th>credit.policy</th>\n",
       "      <th>purpose</th>\n",
       "      <th>int.rate</th>\n",
       "      <th>installment</th>\n",
       "      <th>log.annual.inc</th>\n",
       "      <th>dti</th>\n",
       "      <th>fico</th>\n",
       "      <th>days.with.cr.line</th>\n",
       "      <th>revol.bal</th>\n",
       "      <th>revol.util</th>\n",
       "      <th>inq.last.6mths</th>\n",
       "      <th>delinq.2yrs</th>\n",
       "      <th>pub.rec</th>\n",
       "      <th>not.fully.paid</th>\n",
       "    </tr>\n",
       "  </thead>\n",
       "  <tbody>\n",
       "    <tr>\n",
       "      <th>0</th>\n",
       "      <td>1</td>\n",
       "      <td>debt_consolidation</td>\n",
       "      <td>0.1189</td>\n",
       "      <td>829.10</td>\n",
       "      <td>11.350407</td>\n",
       "      <td>19.48</td>\n",
       "      <td>737</td>\n",
       "      <td>5639.958333</td>\n",
       "      <td>28854</td>\n",
       "      <td>52.1</td>\n",
       "      <td>0</td>\n",
       "      <td>0</td>\n",
       "      <td>0</td>\n",
       "      <td>0</td>\n",
       "    </tr>\n",
       "    <tr>\n",
       "      <th>1</th>\n",
       "      <td>1</td>\n",
       "      <td>credit_card</td>\n",
       "      <td>0.1071</td>\n",
       "      <td>228.22</td>\n",
       "      <td>11.082143</td>\n",
       "      <td>14.29</td>\n",
       "      <td>707</td>\n",
       "      <td>2760.000000</td>\n",
       "      <td>33623</td>\n",
       "      <td>76.7</td>\n",
       "      <td>0</td>\n",
       "      <td>0</td>\n",
       "      <td>0</td>\n",
       "      <td>0</td>\n",
       "    </tr>\n",
       "    <tr>\n",
       "      <th>2</th>\n",
       "      <td>1</td>\n",
       "      <td>debt_consolidation</td>\n",
       "      <td>0.1357</td>\n",
       "      <td>366.86</td>\n",
       "      <td>10.373491</td>\n",
       "      <td>11.63</td>\n",
       "      <td>682</td>\n",
       "      <td>4710.000000</td>\n",
       "      <td>3511</td>\n",
       "      <td>25.6</td>\n",
       "      <td>1</td>\n",
       "      <td>0</td>\n",
       "      <td>0</td>\n",
       "      <td>0</td>\n",
       "    </tr>\n",
       "    <tr>\n",
       "      <th>3</th>\n",
       "      <td>1</td>\n",
       "      <td>debt_consolidation</td>\n",
       "      <td>0.1008</td>\n",
       "      <td>162.34</td>\n",
       "      <td>11.350407</td>\n",
       "      <td>8.10</td>\n",
       "      <td>712</td>\n",
       "      <td>2699.958333</td>\n",
       "      <td>33667</td>\n",
       "      <td>73.2</td>\n",
       "      <td>1</td>\n",
       "      <td>0</td>\n",
       "      <td>0</td>\n",
       "      <td>0</td>\n",
       "    </tr>\n",
       "    <tr>\n",
       "      <th>4</th>\n",
       "      <td>1</td>\n",
       "      <td>credit_card</td>\n",
       "      <td>0.1426</td>\n",
       "      <td>102.92</td>\n",
       "      <td>11.299732</td>\n",
       "      <td>14.97</td>\n",
       "      <td>667</td>\n",
       "      <td>4066.000000</td>\n",
       "      <td>4740</td>\n",
       "      <td>39.5</td>\n",
       "      <td>0</td>\n",
       "      <td>1</td>\n",
       "      <td>0</td>\n",
       "      <td>0</td>\n",
       "    </tr>\n",
       "  </tbody>\n",
       "</table>\n",
       "</div>"
      ],
      "text/plain": [
       "   credit.policy             purpose  int.rate  installment  log.annual.inc  \\\n",
       "0              1  debt_consolidation    0.1189       829.10       11.350407   \n",
       "1              1         credit_card    0.1071       228.22       11.082143   \n",
       "2              1  debt_consolidation    0.1357       366.86       10.373491   \n",
       "3              1  debt_consolidation    0.1008       162.34       11.350407   \n",
       "4              1         credit_card    0.1426       102.92       11.299732   \n",
       "\n",
       "     dti  fico  days.with.cr.line  revol.bal  revol.util  inq.last.6mths  \\\n",
       "0  19.48   737        5639.958333      28854        52.1               0   \n",
       "1  14.29   707        2760.000000      33623        76.7               0   \n",
       "2  11.63   682        4710.000000       3511        25.6               1   \n",
       "3   8.10   712        2699.958333      33667        73.2               1   \n",
       "4  14.97   667        4066.000000       4740        39.5               0   \n",
       "\n",
       "   delinq.2yrs  pub.rec  not.fully.paid  \n",
       "0            0        0               0  \n",
       "1            0        0               0  \n",
       "2            0        0               0  \n",
       "3            0        0               0  \n",
       "4            1        0               0  "
      ]
     },
     "execution_count": 4,
     "metadata": {},
     "output_type": "execute_result"
    }
   ],
   "source": [
    "# Question 2.1.1)\n",
    "\n",
    "import pandas as p\n",
    "import numpy as np\n",
    "import matplotlib.pyplot as plt\n",
    "\n",
    "dataset = p.read_csv(\"loan_data.csv\")\n",
    "dataset.head()"
   ]
  },
  {
   "cell_type": "code",
   "execution_count": 5,
   "metadata": {},
   "outputs": [
    {
     "name": "stdout",
     "output_type": "stream",
     "text": [
      "Count: \n",
      "9577\n"
     ]
    }
   ],
   "source": [
    "# Question 2.1.2)\n",
    "\n",
    "print(\"Count: \")\n",
    "print(str(dataset.shape[0]))"
   ]
  },
  {
   "cell_type": "code",
   "execution_count": 28,
   "metadata": {},
   "outputs": [
    {
     "name": "stdout",
     "output_type": "stream",
     "text": [
      "---------statistical values--------------\n"
     ]
    },
    {
     "data": {
      "text/html": [
       "<div>\n",
       "<style scoped>\n",
       "    .dataframe tbody tr th:only-of-type {\n",
       "        vertical-align: middle;\n",
       "    }\n",
       "\n",
       "    .dataframe tbody tr th {\n",
       "        vertical-align: top;\n",
       "    }\n",
       "\n",
       "    .dataframe thead th {\n",
       "        text-align: right;\n",
       "    }\n",
       "</style>\n",
       "<table border=\"1\" class=\"dataframe\">\n",
       "  <thead>\n",
       "    <tr style=\"text-align: right;\">\n",
       "      <th></th>\n",
       "      <th>Categories</th>\n",
       "      <th>Mean</th>\n",
       "      <th>Max</th>\n",
       "      <th>Min</th>\n",
       "      <th>Std</th>\n",
       "      <th>Q1(25%)</th>\n",
       "      <th>Median(50%)</th>\n",
       "      <th>Q3(75%)</th>\n",
       "    </tr>\n",
       "  </thead>\n",
       "  <tbody>\n",
       "    <tr>\n",
       "      <th>0</th>\n",
       "      <td>credit.policy</td>\n",
       "      <td>0.81</td>\n",
       "      <td>1.00</td>\n",
       "      <td>0.00</td>\n",
       "      <td>0.40</td>\n",
       "      <td>1.000000</td>\n",
       "      <td>1.000000</td>\n",
       "      <td>1.00000</td>\n",
       "    </tr>\n",
       "    <tr>\n",
       "      <th>1</th>\n",
       "      <td>int.rate</td>\n",
       "      <td>0.12</td>\n",
       "      <td>0.22</td>\n",
       "      <td>0.06</td>\n",
       "      <td>0.03</td>\n",
       "      <td>0.103900</td>\n",
       "      <td>0.122100</td>\n",
       "      <td>0.14070</td>\n",
       "    </tr>\n",
       "    <tr>\n",
       "      <th>2</th>\n",
       "      <td>installment</td>\n",
       "      <td>319.03</td>\n",
       "      <td>940.14</td>\n",
       "      <td>15.67</td>\n",
       "      <td>207.01</td>\n",
       "      <td>163.770000</td>\n",
       "      <td>268.950000</td>\n",
       "      <td>432.35000</td>\n",
       "    </tr>\n",
       "    <tr>\n",
       "      <th>3</th>\n",
       "      <td>log.annual.inc</td>\n",
       "      <td>10.93</td>\n",
       "      <td>14.53</td>\n",
       "      <td>7.55</td>\n",
       "      <td>0.61</td>\n",
       "      <td>10.558414</td>\n",
       "      <td>10.928238</td>\n",
       "      <td>11.29178</td>\n",
       "    </tr>\n",
       "    <tr>\n",
       "      <th>4</th>\n",
       "      <td>dti</td>\n",
       "      <td>12.61</td>\n",
       "      <td>29.96</td>\n",
       "      <td>0.00</td>\n",
       "      <td>6.88</td>\n",
       "      <td>7.210000</td>\n",
       "      <td>12.660000</td>\n",
       "      <td>17.95000</td>\n",
       "    </tr>\n",
       "    <tr>\n",
       "      <th>5</th>\n",
       "      <td>fico</td>\n",
       "      <td>710.84</td>\n",
       "      <td>827.00</td>\n",
       "      <td>612.00</td>\n",
       "      <td>37.97</td>\n",
       "      <td>682.000000</td>\n",
       "      <td>707.000000</td>\n",
       "      <td>737.00000</td>\n",
       "    </tr>\n",
       "    <tr>\n",
       "      <th>6</th>\n",
       "      <td>days.with.cr.line</td>\n",
       "      <td>4560.75</td>\n",
       "      <td>17639.96</td>\n",
       "      <td>178.96</td>\n",
       "      <td>2497.06</td>\n",
       "      <td>2820.000000</td>\n",
       "      <td>4139.958333</td>\n",
       "      <td>5730.00000</td>\n",
       "    </tr>\n",
       "    <tr>\n",
       "      <th>7</th>\n",
       "      <td>revol.bal</td>\n",
       "      <td>16911.77</td>\n",
       "      <td>1207359.00</td>\n",
       "      <td>0.00</td>\n",
       "      <td>33757.27</td>\n",
       "      <td>3187.000000</td>\n",
       "      <td>8596.000000</td>\n",
       "      <td>18242.00000</td>\n",
       "    </tr>\n",
       "    <tr>\n",
       "      <th>8</th>\n",
       "      <td>revol.util</td>\n",
       "      <td>46.80</td>\n",
       "      <td>119.00</td>\n",
       "      <td>0.00</td>\n",
       "      <td>29.02</td>\n",
       "      <td>22.600000</td>\n",
       "      <td>46.300000</td>\n",
       "      <td>70.90000</td>\n",
       "    </tr>\n",
       "    <tr>\n",
       "      <th>9</th>\n",
       "      <td>inq.last.6mths</td>\n",
       "      <td>1.58</td>\n",
       "      <td>33.00</td>\n",
       "      <td>0.00</td>\n",
       "      <td>2.20</td>\n",
       "      <td>0.000000</td>\n",
       "      <td>1.000000</td>\n",
       "      <td>2.00000</td>\n",
       "    </tr>\n",
       "    <tr>\n",
       "      <th>10</th>\n",
       "      <td>delinq.2yrs</td>\n",
       "      <td>0.16</td>\n",
       "      <td>13.00</td>\n",
       "      <td>0.00</td>\n",
       "      <td>0.55</td>\n",
       "      <td>0.000000</td>\n",
       "      <td>0.000000</td>\n",
       "      <td>0.00000</td>\n",
       "    </tr>\n",
       "    <tr>\n",
       "      <th>11</th>\n",
       "      <td>pub.rec</td>\n",
       "      <td>0.06</td>\n",
       "      <td>5.00</td>\n",
       "      <td>0.00</td>\n",
       "      <td>0.26</td>\n",
       "      <td>0.000000</td>\n",
       "      <td>0.000000</td>\n",
       "      <td>0.00000</td>\n",
       "    </tr>\n",
       "    <tr>\n",
       "      <th>12</th>\n",
       "      <td>not.fully.paid</td>\n",
       "      <td>0.16</td>\n",
       "      <td>1.00</td>\n",
       "      <td>0.00</td>\n",
       "      <td>0.37</td>\n",
       "      <td>0.000000</td>\n",
       "      <td>0.000000</td>\n",
       "      <td>0.00000</td>\n",
       "    </tr>\n",
       "  </tbody>\n",
       "</table>\n",
       "</div>"
      ],
      "text/plain": [
       "           Categories      Mean         Max     Min       Std      Q1(25%)  \\\n",
       "0       credit.policy      0.81        1.00    0.00      0.40     1.000000   \n",
       "1            int.rate      0.12        0.22    0.06      0.03     0.103900   \n",
       "2         installment    319.03      940.14   15.67    207.01   163.770000   \n",
       "3      log.annual.inc     10.93       14.53    7.55      0.61    10.558414   \n",
       "4                 dti     12.61       29.96    0.00      6.88     7.210000   \n",
       "5                fico    710.84      827.00  612.00     37.97   682.000000   \n",
       "6   days.with.cr.line   4560.75    17639.96  178.96   2497.06  2820.000000   \n",
       "7           revol.bal  16911.77  1207359.00    0.00  33757.27  3187.000000   \n",
       "8          revol.util     46.80      119.00    0.00     29.02    22.600000   \n",
       "9      inq.last.6mths      1.58       33.00    0.00      2.20     0.000000   \n",
       "10        delinq.2yrs      0.16       13.00    0.00      0.55     0.000000   \n",
       "11            pub.rec      0.06        5.00    0.00      0.26     0.000000   \n",
       "12     not.fully.paid      0.16        1.00    0.00      0.37     0.000000   \n",
       "\n",
       "    Median(50%)      Q3(75%)  \n",
       "0      1.000000      1.00000  \n",
       "1      0.122100      0.14070  \n",
       "2    268.950000    432.35000  \n",
       "3     10.928238     11.29178  \n",
       "4     12.660000     17.95000  \n",
       "5    707.000000    737.00000  \n",
       "6   4139.958333   5730.00000  \n",
       "7   8596.000000  18242.00000  \n",
       "8     46.300000     70.90000  \n",
       "9      1.000000      2.00000  \n",
       "10     0.000000      0.00000  \n",
       "11     0.000000      0.00000  \n",
       "12     0.000000      0.00000  "
      ]
     },
     "execution_count": 28,
     "metadata": {},
     "output_type": "execute_result"
    }
   ],
   "source": [
    "# Question 2.1.2)\n",
    "\n",
    "print(\"---------statistical values--------------\")\n",
    "categories = []\n",
    "\n",
    "mean = []\n",
    "\n",
    "max_value = []\n",
    "\n",
    "min_value = []\n",
    "\n",
    "std = []\n",
    "\n",
    "stat_data = []\n",
    "\n",
    "Q1 = []\n",
    "\n",
    "Median = []\n",
    "\n",
    "Q3 = []\n",
    "\n",
    "for i in dataset.columns.values:\n",
    "    \n",
    "    if p.api.types.is_numeric_dtype(dataset[i]): \n",
    "        stat_data.append(dataset[i])\n",
    "        categories.append(i)\n",
    "        mean.append(round(dataset[i].mean(), 2))\n",
    "        max_value.append(round(dataset[i].max(), 2))\n",
    "        min_value.append(round(dataset[i].min(), 2))\n",
    "        std.append(round(dataset[i].std(), 2))\n",
    "        Q1.append(np.percentile(dataset[i], 25))\n",
    "        Median.append(np.percentile(dataset[i], 50))\n",
    "        Q3.append(np.percentile(dataset[i], 75))\n",
    "        \n",
    "d = {'Categories' : categories, 'Mean' :mean, 'Max' :max_value, 'Min': min_value, 'Std': std, 'Q1(25%)' : Q1, 'Median(50%)': Median, 'Q3(75%)' : Q3}\n",
    "\n",
    "#create table\n",
    "table = p.DataFrame(data = d)\n",
    "table\n",
    "\n",
    "\n",
    "\n"
   ]
  },
  {
   "cell_type": "code",
   "execution_count": 13,
   "metadata": {},
   "outputs": [
    {
     "data": {
      "text/plain": [
       "Text(0, 0.5, 'People')"
      ]
     },
     "execution_count": 13,
     "metadata": {},
     "output_type": "execute_result"
    },
    {
     "data": {
      "image/png": "[encoded data removed]",
      "text/plain": [
       "<Figure size 432x288 with 1 Axes>"
      ]
     },
     "metadata": {
      "needs_background": "light"
     },
     "output_type": "display_data"
    }
   ],
   "source": [
    "# Question 2.1.3)\n",
    "\n",
    "import pandas as p\n",
    "import numpy as np\n",
    "import matplotlib.pyplot as plt\n",
    "\n",
    "dataset = p.read_csv(\"loan_data.csv\")\n",
    "credit_policy_approved = 0\n",
    "credit_policy_unapproved = 0\n",
    "\n",
    "for i in dataset['credit.policy']:\n",
    "\n",
    "    if i == 1:\n",
    "     \n",
    "        credit_policy_approved += 1\n",
    "    \n",
    "    else:\n",
    "    \n",
    "        credit_policy_unapproved += 1\n",
    "category = ['Approved', 'Unapproved']\n",
    "\n",
    "values = [credit_policy_approved, credit_policy_unapproved]\n",
    "\n",
    "plt.bar(category, values, width=0.3)\n",
    "\n",
    "plt.xlabel(\"Credits\")\n",
    "plt.ylabel(\"People\")"
   ]
  },
  {
   "cell_type": "code",
   "execution_count": 16,
   "metadata": {},
   "outputs": [
    {
     "data": {
      "text/plain": [
       "Text(0, 0.5, 'Frequency')"
      ]
     },
     "execution_count": 16,
     "metadata": {},
     "output_type": "execute_result"
    },
    {
     "data": {
      "image/png": "[encoded data removed]",
      "text/plain": [
       "<Figure size 432x288 with 1 Axes>"
      ]
     },
     "metadata": {
      "needs_background": "light"
     },
     "output_type": "display_data"
    }
   ],
   "source": [
    "# Question 2.1.4)\n",
    "\n",
    "import pandas as p\n",
    "import numpy as np\n",
    "import matplotlib.pyplot as plt\n",
    "dataset = p.read_csv(\"loan_data.csv\")\n",
    "installment_approved = []\n",
    "installment_unapproved = []\n",
    "i=0\n",
    "while i < len(dataset['credit.policy']):\n",
    "    if dataset['credit.policy'][i] == 1:\n",
    "        installment_approved.append(dataset['installment'][i])\n",
    "    else:\n",
    "        installment_unapproved.append(dataset['installment'][i])\n",
    "    i+=1\n",
    "    \n",
    "counts,bins = np.histogram(installment_unapproved)\n",
    "plt.hist(bins[:-1], bins, weights=counts)\n",
    "\n",
    "plt.xlabel(\"Intsallment_Unapproved\")\n",
    "plt.ylabel(\"Frequency\")"
   ]
  },
  {
   "cell_type": "code",
   "execution_count": 17,
   "metadata": {},
   "outputs": [
    {
     "data": {
      "text/plain": [
       "Text(0, 0.5, 'Frequency')"
      ]
     },
     "execution_count": 17,
     "metadata": {},
     "output_type": "execute_result"
    },
    {
     "data": {
      "image/png": "[encoded data removed]",
      "text/plain": [
       "<Figure size 432x288 with 1 Axes>"
      ]
     },
     "metadata": {
      "needs_background": "light"
     },
     "output_type": "display_data"
    }
   ],
   "source": [
    "# Question 2.1.4)\n",
    "\n",
    "counts,bins = np.histogram(installment_approved)\n",
    "plt.hist(bins[:-1], bins, weights=counts)\n",
    "\n",
    "plt.xlabel(\"Intsallment_Approved\")\n",
    "plt.ylabel(\"Frequency\")"
   ]
  },
  {
   "cell_type": "code",
   "execution_count": 20,
   "metadata": {},
   "outputs": [
    {
     "data": {
      "text/plain": [
       "[Text(0, 0, 'Approved'), Text(0, 0, 'Unapproved')]"
      ]
     },
     "execution_count": 20,
     "metadata": {},
     "output_type": "execute_result"
    },
    {
     "data": {
      "image/png": "[encoded data removed]",
      "text/plain": [
       "<Figure size 432x288 with 1 Axes>"
      ]
     },
     "metadata": {
      "needs_background": "light"
     },
     "output_type": "display_data"
    }
   ],
   "source": [
    "# Question 2.1.5)\n",
    "\n",
    "import pandas as p\n",
    "import numpy as np\n",
    "import matplotlib.pyplot as plt\n",
    "dataset = p.read_csv(\"loan_data.csv\")\n",
    "fisco_approved = []\n",
    "fisco_unapproved = []\n",
    "i = 0\n",
    "while i < len(dataset['credit.policy']):\n",
    "    if dataset['credit.policy'][i] == 1:\n",
    "        fisco_approved.append(dataset['fico'][i])\n",
    "    else:\n",
    "        fisco_unapproved.append(dataset['fico'][i])   \n",
    "    i+=1\n",
    "    \n",
    "my_dict = {'Approved': fisco_approved, 'Unapproved': fisco_unapproved}\n",
    "\n",
    "fig,ax = plt.subplots()\n",
    "ax.boxplot(my_dict.values())\n",
    "ax.set_xticklabels(my_dict.keys())"
   ]
  },
  {
   "cell_type": "code",
   "execution_count": 21,
   "metadata": {},
   "outputs": [
    {
     "data": {
      "text/html": [
       "<div>\n",
       "<style scoped>\n",
       "    .dataframe tbody tr th:only-of-type {\n",
       "        vertical-align: middle;\n",
       "    }\n",
       "\n",
       "    .dataframe tbody tr th {\n",
       "        vertical-align: top;\n",
       "    }\n",
       "\n",
       "    .dataframe thead th {\n",
       "        text-align: right;\n",
       "    }\n",
       "</style>\n",
       "<table border=\"1\" class=\"dataframe\">\n",
       "  <thead>\n",
       "    <tr style=\"text-align: right;\">\n",
       "      <th></th>\n",
       "      <th>Metric:</th>\n",
       "      <th>Precision</th>\n",
       "      <th>Recall</th>\n",
       "      <th>F_Score</th>\n",
       "    </tr>\n",
       "  </thead>\n",
       "  <tbody>\n",
       "    <tr>\n",
       "      <th>0</th>\n",
       "      <td>Fully Paid</td>\n",
       "      <td>0.831691</td>\n",
       "      <td>0.850189</td>\n",
       "      <td>0.840838</td>\n",
       "    </tr>\n",
       "    <tr>\n",
       "      <th>1</th>\n",
       "      <td>Not Fully Paid</td>\n",
       "      <td>0.184932</td>\n",
       "      <td>0.164969</td>\n",
       "      <td>0.174381</td>\n",
       "    </tr>\n",
       "  </tbody>\n",
       "</table>\n",
       "</div>"
      ],
      "text/plain": [
       "         Metric:   Precision    Recall   F_Score\n",
       "0      Fully Paid   0.831691  0.850189  0.840838\n",
       "1  Not Fully Paid   0.184932  0.164969  0.174381"
      ]
     },
     "execution_count": 21,
     "metadata": {},
     "output_type": "execute_result"
    },
    {
     "data": {
      "image/png": "[encoded data removed]",
      "text/plain": [
       "<Figure size 432x288 with 2 Axes>"
      ]
     },
     "metadata": {
      "needs_background": "light"
     },
     "output_type": "display_data"
    }
   ],
   "source": [
    "# Question 2.2.1)\n",
    "\n",
    "import pandas as p\n",
    "import numpy as np\n",
    "import matplotlib.pyplot as plt\n",
    "from sklearn.model_selection import train_test_split\n",
    "from sklearn.tree import DecisionTreeClassifier\n",
    "from sklearn import metrics\n",
    "from sklearn import preprocessing\n",
    "\n",
    "presion_score = []\n",
    "recall = 0\n",
    "f_score = 0\n",
    "\n",
    "dataset = p.read_csv(\"loan_data.csv\")\n",
    "\n",
    "gini_model = DecisionTreeClassifier(criterion = 'gini')\n",
    "\n",
    "X = list(dataset.columns.values)\n",
    "X.remove('purpose')\n",
    "X.remove('not.fully.paid')\n",
    "\n",
    "x_train,x_test,y_train,y_test = train_test_split(dataset[X], dataset['not.fully.paid'], test_size = 0.3, random_state = 1)\n",
    "gini_model.fit(x_train,y_train)\n",
    "gini_predict = gini_model.predict(x_test)\n",
    "\n",
    "metrics.plot_confusion_matrix(gini_model, x_test, y_test)\n",
    "precision, recall, f_score, _ = metrics.precision_recall_fscore_support(y_test, gini_predict)\n",
    "\n",
    "category = ['Fully Paid', 'Not Fully Paid']\n",
    "d = {'Metric: ' : category, 'Precision' : precision, 'Recall' : recall, 'F_Score' : f_score}\n",
    "table = p.DataFrame(data=d)\n",
    "table"
   ]
  },
  {
   "cell_type": "code",
   "execution_count": 22,
   "metadata": {},
   "outputs": [
    {
     "data": {
      "text/html": [
       "<div>\n",
       "<style scoped>\n",
       "    .dataframe tbody tr th:only-of-type {\n",
       "        vertical-align: middle;\n",
       "    }\n",
       "\n",
       "    .dataframe tbody tr th {\n",
       "        vertical-align: top;\n",
       "    }\n",
       "\n",
       "    .dataframe thead th {\n",
       "        text-align: right;\n",
       "    }\n",
       "</style>\n",
       "<table border=\"1\" class=\"dataframe\">\n",
       "  <thead>\n",
       "    <tr style=\"text-align: right;\">\n",
       "      <th></th>\n",
       "      <th>Metric:</th>\n",
       "      <th>Precision</th>\n",
       "      <th>Recall</th>\n",
       "      <th>F_Score</th>\n",
       "    </tr>\n",
       "  </thead>\n",
       "  <tbody>\n",
       "    <tr>\n",
       "      <th>0</th>\n",
       "      <td>Fully Paid</td>\n",
       "      <td>0.841931</td>\n",
       "      <td>0.856064</td>\n",
       "      <td>0.848939</td>\n",
       "    </tr>\n",
       "    <tr>\n",
       "      <th>1</th>\n",
       "      <td>Not Fully Paid</td>\n",
       "      <td>0.239468</td>\n",
       "      <td>0.219959</td>\n",
       "      <td>0.229299</td>\n",
       "    </tr>\n",
       "  </tbody>\n",
       "</table>\n",
       "</div>"
      ],
      "text/plain": [
       "         Metric:   Precision    Recall   F_Score\n",
       "0      Fully Paid   0.841931  0.856064  0.848939\n",
       "1  Not Fully Paid   0.239468  0.219959  0.229299"
      ]
     },
     "execution_count": 22,
     "metadata": {},
     "output_type": "execute_result"
    },
    {
     "data": {
      "image/png": "[encoded data removed]",
      "text/plain": [
       "<Figure size 432x288 with 2 Axes>"
      ]
     },
     "metadata": {
      "needs_background": "light"
     },
     "output_type": "display_data"
    }
   ],
   "source": [
    "entropy_model = DecisionTreeClassifier(criterion = 'entropy')\n",
    "entropy_model.fit(x_train,y_train)\n",
    "entropy_predict = entropy_model.predict(x_test)\n",
    "metrics.plot_confusion_matrix(entropy_model,x_test,y_test)\n",
    "\n",
    "precision,recall,f_score,_ = metrics.precision_recall_fscore_support(y_test, entropy_predict)\n",
    "\n",
    "category = ['Fully Paid', 'Not Fully Paid']\n",
    "d = {'Metric: ' : category, 'Precision' : precision, 'Recall' : recall, 'F_Score' : f_score}\n",
    "table = p.DataFrame(data=d)\n",
    "table"
   ]
  },
  {
   "cell_type": "code",
   "execution_count": 23,
   "metadata": {},
   "outputs": [
    {
     "data": {
      "text/plain": [
       "Text(0, 0.5, 'People')"
      ]
     },
     "execution_count": 23,
     "metadata": {},
     "output_type": "execute_result"
    },
    {
     "data": {
      "image/png": "[encoded data removed]",
      "text/plain": [
       "<Figure size 432x288 with 1 Axes>"
      ]
     },
     "metadata": {
      "needs_background": "light"
     },
     "output_type": "display_data"
    }
   ],
   "source": [
    "import pandas as p\n",
    "import numpy as np\n",
    "import matplotlib.pyplot as plt\n",
    "dataset = p.read_csv(\"loan_data.csv\")\n",
    "fully_paid = 0\n",
    "not_fully_paid = 0\n",
    "\n",
    "for i in dataset['not.fully.paid']:\n",
    "    if i == 1:\n",
    "        fully_paid += 1\n",
    "    else:\n",
    "        not_fully_paid +=1\n",
    "\n",
    "category = ['Fully Paid', 'Not Fully Paid']\n",
    "values = [credit_policy_approved, credit_policy_unapproved]\n",
    "\n",
    "plt.bar(category,values,width = 0.3)\n",
    "\n",
    "plt.xlabel(\"Payment Status\")\n",
    "plt.ylabel(\"People\")\n"
   ]
  },
  {
   "cell_type": "markdown",
   "metadata": {},
   "source": [
    "#2.3\n",
    "\n",
    "After examinign the data we can conclude that majority of the people paid their money back. The preicison suggest \n",
    "that roughly 80% of the people paid their credit back. \n"
   ]
  },
  {
   "cell_type": "code",
   "execution_count": null,
   "metadata": {},
   "outputs": [],
   "source": []
  }
 ],
 "metadata": {
  "kernelspec": {
   "display_name": "Python 3",
   "language": "python",
   "name": "python3"
  },
  "language_info": {
   "codemirror_mode": {
    "name": "ipython",
    "version": 3
   },
   "file_extension": ".py",
   "mimetype": "text/x-python",
   "name": "python",
   "nbconvert_exporter": "python",
   "pygments_lexer": "ipython3",
   "version": "3.8.3"
  }
 },
 "nbformat": 4,
 "nbformat_minor": 4
}
